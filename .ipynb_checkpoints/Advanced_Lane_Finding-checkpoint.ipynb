{
 "cells": [
  {
   "cell_type": "markdown",
   "metadata": {},
   "source": [
    "The goals / steps of this project are the following:\n",
    "\n",
    "* Compute the camera calibration matrix and distortion coefficients given a set of chessboard images.\n",
    "* Apply a distortion correction to raw images.\n",
    "* Use color transforms, gradients, etc., to create a thresholded binary image.\n",
    "* Apply a perspective transform to rectify binary image (\"birds-eye view\").\n",
    "* Detect lane pixels and fit to find the lane boundary.\n",
    "* Determine the curvature of the lane and vehicle position with respect to center.\n",
    "* Warp the detected lane boundaries back onto the original image.\n",
    "* Output visual display of the lane boundaries and numerical estimation of lane curvature and vehicle position."
   ]
  },
  {
   "cell_type": "markdown",
   "metadata": {},
   "source": [
    "## step1: camera calibration\n",
    "\n",
    "用到的opencv函数\n",
    "\n",
    "1.得到灰度图\n",
    "\n",
    "gray = cv2.cvtColor(img,cv2.COLOR_BGR2GRAY)\n",
    "\n",
    "2.Finding chessboard corners (for an 8x6 board):\n",
    "\n",
    "ret, corners = cv2.findChessboardCorners(gray, (8,6), None)\n",
    "\n",
    "3.Drawing detected corners on an image:\n",
    "\n",
    "img = cv2.drawChessboardCorners(img, (8,6), corners, ret)\n",
    "\n",
    "4.标定相机Camera calibration\n",
    "\n",
    "ret, mtx, dist, rvecs, tvecs = cv2.calibrateCamera(objpoints, imgpoints, gray.shape[::-1], None, None)\n",
    "\n",
    "objpoints:对象点坐标，3D points in real world space\n",
    "\n",
    "imgpoints:图像点坐标，2D points in image plane\n",
    "\n",
    "5.图像矫正：Undistorting a test image:\n",
    "\n",
    "dst = cv2.undistort(img, mtx, dist, None, mtx)"
   ]
  },
  {
   "cell_type": "code",
   "execution_count": 2,
   "metadata": {
    "collapsed": true
   },
   "outputs": [],
   "source": [
    "import numpy as np\n",
    "import cv2\n",
    "import matplotlib.pyplot as plt\n",
    "import matplotlib.image as mpimg"
   ]
  },
  {
   "cell_type": "code",
   "execution_count": 3,
   "metadata": {},
   "outputs": [
    {
     "ename": "NameError",
     "evalue": "name 'pickle' is not defined",
     "output_type": "error",
     "traceback": [
      "\u001b[0;31m---------------------------------------------------------------------------\u001b[0m",
      "\u001b[0;31mNameError\u001b[0m                                 Traceback (most recent call last)",
      "\u001b[0;32m<ipython-input-3-e90124c25d8a>\u001b[0m in \u001b[0;36m<module>\u001b[0;34m()\u001b[0m\n\u001b[1;32m      1\u001b[0m \u001b[0;31m# Read in the saved objpoints and imgpoints\u001b[0m\u001b[0;34m\u001b[0m\u001b[0;34m\u001b[0m\u001b[0m\n\u001b[0;32m----> 2\u001b[0;31m \u001b[0mdist_pickle\u001b[0m \u001b[0;34m=\u001b[0m \u001b[0mpickle\u001b[0m\u001b[0;34m.\u001b[0m\u001b[0mload\u001b[0m\u001b[0;34m(\u001b[0m \u001b[0mopen\u001b[0m\u001b[0;34m(\u001b[0m \u001b[0;34m\"lesson5/wide_dist_pickle.p\"\u001b[0m\u001b[0;34m,\u001b[0m \u001b[0;34m\"rb\"\u001b[0m \u001b[0;34m)\u001b[0m \u001b[0;34m)\u001b[0m\u001b[0;34m\u001b[0m\u001b[0m\n\u001b[0m\u001b[1;32m      3\u001b[0m \u001b[0mobjpoints\u001b[0m \u001b[0;34m=\u001b[0m \u001b[0mdist_pickle\u001b[0m\u001b[0;34m[\u001b[0m\u001b[0;34m\"objpoints\"\u001b[0m\u001b[0;34m]\u001b[0m  \u001b[0;31m#3D points in real world space,对象点位置\u001b[0m\u001b[0;34m\u001b[0m\u001b[0m\n\u001b[1;32m      4\u001b[0m \u001b[0mimgpoints\u001b[0m \u001b[0;34m=\u001b[0m \u001b[0mdist_pickle\u001b[0m\u001b[0;34m[\u001b[0m\u001b[0;34m\"imgpoints\"\u001b[0m\u001b[0;34m]\u001b[0m  \u001b[0;31m#2D，角点在图像的实际坐标\u001b[0m\u001b[0;34m\u001b[0m\u001b[0m\n\u001b[1;32m      5\u001b[0m \u001b[0;34m\u001b[0m\u001b[0m\n",
      "\u001b[0;31mNameError\u001b[0m: name 'pickle' is not defined"
     ]
    }
   ],
   "source": [
    "# Read in the saved objpoints and imgpoints\n",
    "dist_pickle = pickle.load( open( \"lesson5/wide_dist_pickle.p\", \"rb\" ) )\n",
    "objpoints = dist_pickle[\"objpoints\"]  #3D points in real world space,对象点位置\n",
    "imgpoints = dist_pickle[\"imgpoints\"]  #2D，角点在图像的实际坐标\n",
    "\n",
    "print(len(objpoints),objpoints[0].shape)  #35张图，每张图48个点\n",
    "print(len(imgpoints),imgpoints[0].shape)  #35张图，每张图48个点，每个点，x,y坐标"
   ]
  },
  {
   "cell_type": "markdown",
   "metadata": {},
   "source": [
    "import numpy as np\n",
    "import cv2\n",
    "import matplotlib.pyplot as plt\n",
    "import matplotlib.image as mpimg"
   ]
  },
  {
   "cell_type": "markdown",
   "metadata": {},
   "source": [
    "## step2: 畸变矫正"
   ]
  },
  {
   "cell_type": "markdown",
   "metadata": {},
   "source": [
    "## step3: 得到车道线阈值图"
   ]
  },
  {
   "cell_type": "markdown",
   "metadata": {},
   "source": [
    "## step4: 视角透视转换，得到bird eye view"
   ]
  },
  {
   "cell_type": "markdown",
   "metadata": {},
   "source": [
    "## step5: 拟合车道线曲线"
   ]
  },
  {
   "cell_type": "markdown",
   "metadata": {},
   "source": [
    "## step6: 画出车道线，转换回原图"
   ]
  },
  {
   "cell_type": "markdown",
   "metadata": {},
   "source": [
    "## step7: 测试视频\n"
   ]
  }
 ],
 "metadata": {
  "kernelspec": {
   "display_name": "Python 3",
   "language": "python",
   "name": "python3"
  },
  "language_info": {
   "codemirror_mode": {
    "name": "ipython",
    "version": 3
   },
   "file_extension": ".py",
   "mimetype": "text/x-python",
   "name": "python",
   "nbconvert_exporter": "python",
   "pygments_lexer": "ipython3",
   "version": "3.6.2"
  }
 },
 "nbformat": 4,
 "nbformat_minor": 2
}
